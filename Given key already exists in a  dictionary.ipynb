{
 "cells": [
  {
   "cell_type": "code",
   "execution_count": 5,
   "id": "4125fbf8",
   "metadata": {},
   "outputs": [
    {
     "name": "stdout",
     "output_type": "stream",
     "text": [
      "This Key is present in the dictionary\n"
     ]
    }
   ],
   "source": [
    "d = {1: 10, 2: 20, 3: 30, 4: 40, 5: 50, 6: 60}\n",
    "def is_key_present(x):\n",
    "  if x in d:\n",
    "      print('This Key is present in the dictionary')\n",
    "  else:\n",
    "      print('This Key is not present in the dictionary')\n",
    "is_key_present(5)"
   ]
  },
  {
   "cell_type": "code",
   "execution_count": 6,
   "id": "7fa31008",
   "metadata": {},
   "outputs": [
    {
     "name": "stdout",
     "output_type": "stream",
     "text": [
      "This Key is not present in the dictionary\n"
     ]
    }
   ],
   "source": [
    "is_key_present(9)"
   ]
  },
  {
   "cell_type": "code",
   "execution_count": 7,
   "id": "b22bcfc2",
   "metadata": {},
   "outputs": [
    {
     "name": "stdout",
     "output_type": "stream",
     "text": [
      "This Key is present in the dictionary\n"
     ]
    }
   ],
   "source": [
    "is_key_present(4)"
   ]
  },
  {
   "cell_type": "code",
   "execution_count": null,
   "id": "25eae87b",
   "metadata": {},
   "outputs": [],
   "source": []
  }
 ],
 "metadata": {
  "kernelspec": {
   "display_name": "Python 3",
   "language": "python",
   "name": "python3"
  },
  "language_info": {
   "codemirror_mode": {
    "name": "ipython",
    "version": 3
   },
   "file_extension": ".py",
   "mimetype": "text/x-python",
   "name": "python",
   "nbconvert_exporter": "python",
   "pygments_lexer": "ipython3",
   "version": "3.8.8"
  }
 },
 "nbformat": 4,
 "nbformat_minor": 5
}
